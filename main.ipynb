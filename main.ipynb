{
 "cells": [
  {
   "cell_type": "code",
   "execution_count": 1,
   "metadata": {},
   "outputs": [],
   "source": [
    "import sys\n",
    "import time\n",
    "\n",
    "import numpy as np\n",
    "from imageio import imread\n",
    "from scipy.ndimage.filters import gaussian_filter\n",
    "from PIL import Image\n",
    "\n",
    "import torch\n",
    "from torch import nn\n",
    "import torch.nn.functional as F\n",
    "from torch.nn import MSELoss\n",
    "from torch.optim import Adam, LBFGS\n",
    "from torchvision.transforms import ToTensor, Normalize, Compose\n",
    "\n",
    "import pylab as plt\n",
    "plt.ion()\n",
    "\n",
    "from tqdm import tqdm\n",
    "tqdm.monitor_interval = 0\n",
    "\n",
    "from models import Vgg19, gram_matrix, patch_match, downsampling\n",
    "from data_utils import read_img"
   ]
  },
  {
   "cell_type": "code",
   "execution_count": 2,
   "metadata": {},
   "outputs": [],
   "source": [
    "style_fn = 'data/0_target.jpg'\n",
    "naive_fn = 'data/0_naive.jpg'\n",
    "mask_fn = 'data/0_c_mask_dilated.jpg'\n",
    "tmask_fn = 'data/0_c_mask.jpg'"
   ]
  },
  {
   "cell_type": "code",
   "execution_count": 3,
   "metadata": {},
   "outputs": [
    {
     "name": "stdout",
     "output_type": "stream",
     "text": [
      "torch.Size([1, 3, 682, 700])\n",
      "torch.Size([1, 3, 682, 700])\n",
      "torch.Size([1, 682, 700])\n",
      "torch.Size([1, 682, 700])\n"
     ]
    }
   ],
   "source": [
    "torch.manual_seed(316)\n",
    "torch.cuda.manual_seed_all(316)\n",
    "\n",
    "transform = Compose([ToTensor(), Normalize(mean = [0.485, 0.456, 0.406], std = [0.229, 0.224, 0.225])])\n",
    "\n",
    "style_img = transform(Image.open(style_fn)).unsqueeze(0).cuda()\n",
    "naive_img = transform(Image.open(naive_fn)).unsqueeze(0).cuda()\n",
    "mask_img = imread(mask_fn).astype(np.float32)\n",
    "tmask_img = imread(tmask_fn).astype(np.float32)\n",
    "if mask_img.shape[-1] == 3:\n",
    "    mask_img = mask_img[..., 0]\n",
    "if tmask_img.shape[-1] == 3:\n",
    "    tmask_img = tmask_img[..., 0]\n",
    "tmask_img = gaussian_filter(tmask_img, sigma = 3)\n",
    "tmask_img = torch.from_numpy(tmask_img).unsqueeze(0).cuda() / 255.0\n",
    "mask_img = torch.from_numpy(mask_img).unsqueeze(0).cuda() / 255.0\n",
    "\n",
    "print(style_img.shape)\n",
    "print(naive_img.shape)\n",
    "print(mask_img.shape)\n",
    "print(tmask_img.shape)\n",
    "\n",
    "naive_img_original = naive_img.clone()\n",
    "naive_img = naive_img.requires_grad_(True)"
   ]
  },
  {
   "cell_type": "code",
   "execution_count": null,
   "metadata": {},
   "outputs": [],
   "source": [
    "net = Vgg19().cuda()\n",
    "#optimizer = Adam([naive_img], lr = 1e1)\n",
    "optimizer = LBFGS([naive_img], max_iter = 100, lr = 1)"
   ]
  },
  {
   "cell_type": "code",
   "execution_count": null,
   "metadata": {},
   "outputs": [],
   "source": [
    "features_style = net(style_img)\n",
    "features_naive_original = net(naive_img_original)\n",
    "\n",
    "layers_content = ['relu4_1']\n",
    "layers_style = ['relu3_1', 'relu4_1', 'relu5_1']\n",
    "\n",
    "features_style_nearest = {}\n",
    "for l in layers_style:\n",
    "    features_style_nearest[l] = patch_match(features_naive_original[l], features_style[l], patch_size = 3)\n",
    "    #features_style_nearest[l] = features_style[l]"
   ]
  },
  {
   "cell_type": "code",
   "execution_count": null,
   "metadata": {},
   "outputs": [],
   "source": [
    "from models import cosine_similarity\n",
    "for l in layers_style:\n",
    "    print('no matching: ', torch.mean(cosine_similarity(features_naive_original[l], features_style[l])))\n",
    "    print('matched: ', torch.mean(cosine_similarity(features_naive_original[l], features_style_nearest[l])))"
   ]
  },
  {
   "cell_type": "code",
   "execution_count": null,
   "metadata": {},
   "outputs": [],
   "source": [
    "for i in tqdm(range(10)):\n",
    "    def closure(split = False):\n",
    "        features_naive = net(naive_img)\n",
    "\n",
    "        loss_content = 0\n",
    "        mask = mask_img.unsqueeze(0)\n",
    "        j = 0\n",
    "        for l in layers_content:\n",
    "            while (mask.size(2) != features_naive[l].size(2)):\n",
    "                if type(net.features[j]) == nn.Conv2d:\n",
    "                    mask = F.avg_pool2d(mask, 3, stride = 1, padding = 1)\n",
    "                elif type(net.features[j]) == nn.MaxPool2d:\n",
    "                    mask = downsampling(mask, scale_factor = 0.5)\n",
    "                j += 1\n",
    "            loss_content += torch.mean(mask * (features_naive[l] - features_naive_original[l].detach()) ** 2)\n",
    "\n",
    "        loss_style = 0\n",
    "        mask = mask_img.unsqueeze(0)\n",
    "        j = 0\n",
    "        for l in layers_style:\n",
    "            while (mask.size(2) != features_naive[l].size(2)):\n",
    "                if type(net.features[j]) == nn.Conv2d:\n",
    "                    mask = F.avg_pool2d(mask, 3, stride = 1, padding = 1)\n",
    "                elif type(net.features[j]) == nn.MaxPool2d:\n",
    "                    mask = downsampling(mask, scale_factor = 0.5)\n",
    "                j += 1\n",
    "            gram_naive = gram_matrix(mask * features_naive[l]) / torch.sum(mask)\n",
    "            gram_style = gram_matrix(mask * features_style_nearest[l]) / torch.sum(mask)\n",
    "            loss_style += torch.mean((gram_naive - gram_style.detach()) ** 2)\n",
    "\n",
    "        #loss_variation = 0\n",
    "        #loss_variation += torch.sum((naive_img[:, :, :-1, :-1] - naive_img[:, :, :-1, 1:]) ** 2)\n",
    "        #loss_variation += torch.sum((naive_img[:, :, :-1, :-1] - naive_img[:, :, 1:, :-1]) ** 2)\n",
    "\n",
    "        loss_content = loss_content * 5\n",
    "        loss_style = loss_style * 100\n",
    "        loss = loss_content  + loss_style# + 1e-3 * loss_variation\n",
    "        optimizer.zero_grad()\n",
    "\n",
    "        loss.backward()\n",
    "        #naive_img.grad.data *= mask_img\n",
    "        if split:\n",
    "            return loss, loss_content, loss_style\n",
    "        else:\n",
    "            return loss\n",
    "\n",
    "    optimizer.step(closure)\n",
    "    print(closure(split = True))\n",
    "\n",
    "    out_img = tmask_img * naive_img + (1 - tmask_img) * style_img\n",
    "    out = np.transpose(out_img.detach().squeeze().cpu().numpy(), (1, 2, 0))\n",
    "    out *= np.array([0.229, 0.224, 0.225], dtype = np.float32)\n",
    "    out += np.array([0.485, 0.456, 0.406], dtype = np.float32)\n",
    "    # out = (out - np.min(out)) / (np.max(out) - np.min(out))\n",
    "    out = np.clip(out, 0, 1)\n",
    "    plt.figure(figsize = (8, 8))\n",
    "    plt.imshow(out)"
   ]
  },
  {
   "cell_type": "code",
   "execution_count": null,
   "metadata": {},
   "outputs": [],
   "source": [
    "out = np.transpose(out_img.detach().squeeze().cpu().numpy(), (1, 2, 0))\n",
    "out *= np.array([0.229, 0.224, 0.225], dtype = np.float32)\n",
    "out += np.array([0.485, 0.456, 0.406], dtype = np.float32)\n",
    "print(np.max(out), np.min(out))\n",
    "print(np.mean(out))\n",
    "out = np.clip(out, 0, 1)\n",
    "plt.figure(figsize = (16, 16))\n",
    "plt.imshow(out)"
   ]
  },
  {
   "cell_type": "code",
   "execution_count": null,
   "metadata": {},
   "outputs": [],
   "source": [
    "out = tmask_img.detach().squeeze().cpu().numpy()\n",
    "plt.figure(figsize = (16, 16))\n",
    "plt.imshow(out)\n",
    "print(np.max(out), np.min(out))"
   ]
  },
  {
   "cell_type": "code",
   "execution_count": null,
   "metadata": {},
   "outputs": [],
   "source": []
  }
 ],
 "metadata": {
  "kernelspec": {
   "display_name": "Python 3",
   "language": "python",
   "name": "python3"
  },
  "language_info": {
   "codemirror_mode": {
    "name": "ipython",
    "version": 3
   },
   "file_extension": ".py",
   "mimetype": "text/x-python",
   "name": "python",
   "nbconvert_exporter": "python",
   "pygments_lexer": "ipython3",
   "version": "3.6.5"
  }
 },
 "nbformat": 4,
 "nbformat_minor": 2
}
